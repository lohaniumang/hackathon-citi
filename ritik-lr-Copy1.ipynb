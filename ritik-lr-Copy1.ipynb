{
 "cells": [
  {
   "cell_type": "code",
   "execution_count": 2,
   "metadata": {},
   "outputs": [
    {
     "name": "stderr",
     "output_type": "stream",
     "text": [
      "C:\\Users\\lohani\\Anaconda3\\lib\\site-packages\\statsmodels\\tools\\_testing.py:19: FutureWarning: pandas.util.testing is deprecated. Use the functions in the public API at pandas.testing instead.\n",
      "  import pandas.util.testing as tm\n"
     ]
    }
   ],
   "source": [
    "import pandas as pd\n",
    "import numpy as np\n",
    "import seaborn as sns\n",
    "import matplotlib.pyplot as plt\n",
    "%matplotlib inline"
   ]
  },
  {
   "cell_type": "code",
   "execution_count": 3,
   "metadata": {},
   "outputs": [],
   "source": [
    "test = pd.read_csv(r'C:\\Users\\lohani\\Desktop\\Test.csv')\n",
    "train = pd.read_csv(r'C:\\Users\\lohani\\Desktop\\Train.csv')"
   ]
  },
  {
   "cell_type": "code",
   "execution_count": 4,
   "metadata": {},
   "outputs": [
    {
     "name": "stdout",
     "output_type": "stream",
     "text": [
      "(8009, 19) (6218, 17)\n"
     ]
    }
   ],
   "source": [
    "print(train.shape, test.shape)"
   ]
  },
  {
   "cell_type": "code",
   "execution_count": 5,
   "metadata": {},
   "outputs": [
    {
     "data": {
      "text/html": [
       "<div>\n",
       "<style scoped>\n",
       "    .dataframe tbody tr th:only-of-type {\n",
       "        vertical-align: middle;\n",
       "    }\n",
       "\n",
       "    .dataframe tbody tr th {\n",
       "        vertical-align: top;\n",
       "    }\n",
       "\n",
       "    .dataframe thead th {\n",
       "        text-align: right;\n",
       "    }\n",
       "</style>\n",
       "<table border=\"1\" class=\"dataframe\">\n",
       "  <thead>\n",
       "    <tr style=\"text-align: right;\">\n",
       "      <th></th>\n",
       "      <th>customer_id</th>\n",
       "      <th>seller_id</th>\n",
       "      <th>order_checkout_date</th>\n",
       "      <th>delivery_eta</th>\n",
       "      <th>shipping_charges</th>\n",
       "      <th>product_category_code</th>\n",
       "      <th>X_1</th>\n",
       "      <th>X_2</th>\n",
       "      <th>product_quality_type</th>\n",
       "      <th>product_mass</th>\n",
       "      <th>product_length</th>\n",
       "      <th>product_height</th>\n",
       "      <th>product_breadth</th>\n",
       "      <th>payment_emi_years(max)</th>\n",
       "      <th>price</th>\n",
       "      <th>order_status</th>\n",
       "      <th>transaction_type</th>\n",
       "      <th>coupon_code</th>\n",
       "      <th>payment_code</th>\n",
       "    </tr>\n",
       "  </thead>\n",
       "  <tbody>\n",
       "    <tr>\n",
       "      <th>0</th>\n",
       "      <td>0a29abf475fb8039d2775913d6f0b6f0</td>\n",
       "      <td>48436dade18ac8b2bce089ec2a041202</td>\n",
       "      <td>2017-08-05 16:59:05</td>\n",
       "      <td>2017-09-06 00:00:00</td>\n",
       "      <td>18.12</td>\n",
       "      <td>27.0</td>\n",
       "      <td>58.0</td>\n",
       "      <td>598.0</td>\n",
       "      <td>D</td>\n",
       "      <td>650</td>\n",
       "      <td>28</td>\n",
       "      <td>9</td>\n",
       "      <td>14</td>\n",
       "      <td>1.0</td>\n",
       "      <td>153.75</td>\n",
       "      <td>E</td>\n",
       "      <td>1</td>\n",
       "      <td>CLOTH20</td>\n",
       "      <td>GPAY20</td>\n",
       "    </tr>\n",
       "    <tr>\n",
       "      <th>1</th>\n",
       "      <td>903ac1be571f2dc655f9083ffc936ce6</td>\n",
       "      <td>5b51032eddd242adc84c38acab88f23d</td>\n",
       "      <td>2017-10-30 15:35:32</td>\n",
       "      <td>2017-11-24 00:00:00</td>\n",
       "      <td>20.08</td>\n",
       "      <td>55.0</td>\n",
       "      <td>59.0</td>\n",
       "      <td>695.0</td>\n",
       "      <td>B</td>\n",
       "      <td>3050</td>\n",
       "      <td>33</td>\n",
       "      <td>13</td>\n",
       "      <td>33</td>\n",
       "      <td>1.0</td>\n",
       "      <td>388.17</td>\n",
       "      <td>E</td>\n",
       "      <td>3</td>\n",
       "      <td>CLOTH20</td>\n",
       "      <td>CITI10</td>\n",
       "    </tr>\n",
       "    <tr>\n",
       "      <th>2</th>\n",
       "      <td>bfadadd0d97f4c52f859c1c4d809edf9</td>\n",
       "      <td>4a3ca9315b744ce9f8e9374361493884</td>\n",
       "      <td>2017-11-04 12:03:25</td>\n",
       "      <td>2017-11-30 00:00:00</td>\n",
       "      <td>2.29</td>\n",
       "      <td>14.0</td>\n",
       "      <td>54.0</td>\n",
       "      <td>245.0</td>\n",
       "      <td>A</td>\n",
       "      <td>1383</td>\n",
       "      <td>50</td>\n",
       "      <td>10</td>\n",
       "      <td>40</td>\n",
       "      <td>1.0</td>\n",
       "      <td>216.72</td>\n",
       "      <td>E</td>\n",
       "      <td>1</td>\n",
       "      <td>CLOTH20</td>\n",
       "      <td>GPAY20</td>\n",
       "    </tr>\n",
       "    <tr>\n",
       "      <th>3</th>\n",
       "      <td>6c9e6937792cc04d9bb23451e0ff9f48</td>\n",
       "      <td>4a3ca9315b744ce9f8e9374361493884</td>\n",
       "      <td>2017-06-15 11:46:47</td>\n",
       "      <td>2017-07-10 00:00:00</td>\n",
       "      <td>1.86</td>\n",
       "      <td>14.0</td>\n",
       "      <td>54.0</td>\n",
       "      <td>245.0</td>\n",
       "      <td>A</td>\n",
       "      <td>1383</td>\n",
       "      <td>50</td>\n",
       "      <td>10</td>\n",
       "      <td>40</td>\n",
       "      <td>1.0</td>\n",
       "      <td>228.95</td>\n",
       "      <td>E</td>\n",
       "      <td>1</td>\n",
       "      <td>CLOTH15</td>\n",
       "      <td>CITI10</td>\n",
       "    </tr>\n",
       "    <tr>\n",
       "      <th>4</th>\n",
       "      <td>906e77e04c502baf17ad58162217da39</td>\n",
       "      <td>4a3ca9315b744ce9f8e9374361493884</td>\n",
       "      <td>2018-01-03 09:14:25</td>\n",
       "      <td>2018-01-31 00:00:00</td>\n",
       "      <td>15.57</td>\n",
       "      <td>14.0</td>\n",
       "      <td>54.0</td>\n",
       "      <td>245.0</td>\n",
       "      <td>A</td>\n",
       "      <td>1383</td>\n",
       "      <td>50</td>\n",
       "      <td>10</td>\n",
       "      <td>40</td>\n",
       "      <td>1.0</td>\n",
       "      <td>243.51</td>\n",
       "      <td>E</td>\n",
       "      <td>2</td>\n",
       "      <td>CLOTH15</td>\n",
       "      <td>CITI10</td>\n",
       "    </tr>\n",
       "  </tbody>\n",
       "</table>\n",
       "</div>"
      ],
      "text/plain": [
       "                        customer_id                         seller_id  \\\n",
       "0  0a29abf475fb8039d2775913d6f0b6f0  48436dade18ac8b2bce089ec2a041202   \n",
       "1  903ac1be571f2dc655f9083ffc936ce6  5b51032eddd242adc84c38acab88f23d   \n",
       "2  bfadadd0d97f4c52f859c1c4d809edf9  4a3ca9315b744ce9f8e9374361493884   \n",
       "3  6c9e6937792cc04d9bb23451e0ff9f48  4a3ca9315b744ce9f8e9374361493884   \n",
       "4  906e77e04c502baf17ad58162217da39  4a3ca9315b744ce9f8e9374361493884   \n",
       "\n",
       "   order_checkout_date         delivery_eta  shipping_charges  \\\n",
       "0  2017-08-05 16:59:05  2017-09-06 00:00:00             18.12   \n",
       "1  2017-10-30 15:35:32  2017-11-24 00:00:00             20.08   \n",
       "2  2017-11-04 12:03:25  2017-11-30 00:00:00              2.29   \n",
       "3  2017-06-15 11:46:47  2017-07-10 00:00:00              1.86   \n",
       "4  2018-01-03 09:14:25  2018-01-31 00:00:00             15.57   \n",
       "\n",
       "   product_category_code   X_1    X_2 product_quality_type  product_mass  \\\n",
       "0                   27.0  58.0  598.0                    D           650   \n",
       "1                   55.0  59.0  695.0                    B          3050   \n",
       "2                   14.0  54.0  245.0                    A          1383   \n",
       "3                   14.0  54.0  245.0                    A          1383   \n",
       "4                   14.0  54.0  245.0                    A          1383   \n",
       "\n",
       "   product_length  product_height  product_breadth  payment_emi_years(max)  \\\n",
       "0              28               9               14                     1.0   \n",
       "1              33              13               33                     1.0   \n",
       "2              50              10               40                     1.0   \n",
       "3              50              10               40                     1.0   \n",
       "4              50              10               40                     1.0   \n",
       "\n",
       "    price order_status  transaction_type coupon_code payment_code  \n",
       "0  153.75            E                 1     CLOTH20       GPAY20  \n",
       "1  388.17            E                 3     CLOTH20       CITI10  \n",
       "2  216.72            E                 1     CLOTH20       GPAY20  \n",
       "3  228.95            E                 1     CLOTH15       CITI10  \n",
       "4  243.51            E                 2     CLOTH15       CITI10  "
      ]
     },
     "metadata": {},
     "output_type": "display_data"
    },
    {
     "data": {
      "text/html": [
       "<div>\n",
       "<style scoped>\n",
       "    .dataframe tbody tr th:only-of-type {\n",
       "        vertical-align: middle;\n",
       "    }\n",
       "\n",
       "    .dataframe tbody tr th {\n",
       "        vertical-align: top;\n",
       "    }\n",
       "\n",
       "    .dataframe thead th {\n",
       "        text-align: right;\n",
       "    }\n",
       "</style>\n",
       "<table border=\"1\" class=\"dataframe\">\n",
       "  <thead>\n",
       "    <tr style=\"text-align: right;\">\n",
       "      <th></th>\n",
       "      <th>customer_id</th>\n",
       "      <th>seller_id</th>\n",
       "      <th>order_checkout_date</th>\n",
       "      <th>delivery_eta</th>\n",
       "      <th>shipping_charges</th>\n",
       "      <th>product_category_code</th>\n",
       "      <th>X_1</th>\n",
       "      <th>X_2</th>\n",
       "      <th>product_quality_type</th>\n",
       "      <th>product_mass</th>\n",
       "      <th>product_length</th>\n",
       "      <th>product_height</th>\n",
       "      <th>product_breadth</th>\n",
       "      <th>payment_emi_years(max)</th>\n",
       "      <th>price</th>\n",
       "      <th>order_status</th>\n",
       "      <th>transaction_type</th>\n",
       "    </tr>\n",
       "  </thead>\n",
       "  <tbody>\n",
       "    <tr>\n",
       "      <th>0</th>\n",
       "      <td>d6b757c9478ed7366a42b6f09dce476f</td>\n",
       "      <td>d93919c944be9cff128f6c9cb899eacb</td>\n",
       "      <td>2017-12-20 23:34:29</td>\n",
       "      <td>2018-01-15 00:00:00</td>\n",
       "      <td>18.38</td>\n",
       "      <td>7.0</td>\n",
       "      <td>39.0</td>\n",
       "      <td>749.0</td>\n",
       "      <td>A</td>\n",
       "      <td>4450</td>\n",
       "      <td>50</td>\n",
       "      <td>8</td>\n",
       "      <td>45</td>\n",
       "      <td>1.0</td>\n",
       "      <td>88.28</td>\n",
       "      <td>E</td>\n",
       "      <td>1</td>\n",
       "    </tr>\n",
       "    <tr>\n",
       "      <th>1</th>\n",
       "      <td>9c224bc2354a4e8ecbd390cba06b5d07</td>\n",
       "      <td>d93919c944be9cff128f6c9cb899eacb</td>\n",
       "      <td>2018-01-07 16:38:24</td>\n",
       "      <td>2018-02-23 00:00:00</td>\n",
       "      <td>50.15</td>\n",
       "      <td>7.0</td>\n",
       "      <td>39.0</td>\n",
       "      <td>749.0</td>\n",
       "      <td>A</td>\n",
       "      <td>4450</td>\n",
       "      <td>50</td>\n",
       "      <td>8</td>\n",
       "      <td>45</td>\n",
       "      <td>1.0</td>\n",
       "      <td>120.05</td>\n",
       "      <td>E</td>\n",
       "      <td>2</td>\n",
       "    </tr>\n",
       "    <tr>\n",
       "      <th>2</th>\n",
       "      <td>5551ca919431fc78c6bb85ee6f57c904</td>\n",
       "      <td>d93919c944be9cff128f6c9cb899eacb</td>\n",
       "      <td>2018-01-06 13:23:46</td>\n",
       "      <td>2018-02-01 00:00:00</td>\n",
       "      <td>18.38</td>\n",
       "      <td>7.0</td>\n",
       "      <td>39.0</td>\n",
       "      <td>749.0</td>\n",
       "      <td>A</td>\n",
       "      <td>4450</td>\n",
       "      <td>50</td>\n",
       "      <td>8</td>\n",
       "      <td>45</td>\n",
       "      <td>1.0</td>\n",
       "      <td>88.28</td>\n",
       "      <td>E</td>\n",
       "      <td>1</td>\n",
       "    </tr>\n",
       "    <tr>\n",
       "      <th>3</th>\n",
       "      <td>77b4e2a15303756cc2a3b4a5d2dd3460</td>\n",
       "      <td>d93919c944be9cff128f6c9cb899eacb</td>\n",
       "      <td>2018-02-07 23:55:11</td>\n",
       "      <td>2018-03-19 00:00:00</td>\n",
       "      <td>39.55</td>\n",
       "      <td>7.0</td>\n",
       "      <td>39.0</td>\n",
       "      <td>749.0</td>\n",
       "      <td>A</td>\n",
       "      <td>4450</td>\n",
       "      <td>50</td>\n",
       "      <td>8</td>\n",
       "      <td>45</td>\n",
       "      <td>1.0</td>\n",
       "      <td>119.45</td>\n",
       "      <td>E</td>\n",
       "      <td>2</td>\n",
       "    </tr>\n",
       "    <tr>\n",
       "      <th>4</th>\n",
       "      <td>6b9c954ac26835161d0f34df89ca1175</td>\n",
       "      <td>23613d49c3ac2bd302259e55c06c050c</td>\n",
       "      <td>2018-02-04 12:11:39</td>\n",
       "      <td>2018-03-01 00:00:00</td>\n",
       "      <td>11.85</td>\n",
       "      <td>55.0</td>\n",
       "      <td>39.0</td>\n",
       "      <td>161.0</td>\n",
       "      <td>C</td>\n",
       "      <td>200</td>\n",
       "      <td>20</td>\n",
       "      <td>20</td>\n",
       "      <td>20</td>\n",
       "      <td>1.0</td>\n",
       "      <td>45.50</td>\n",
       "      <td>E</td>\n",
       "      <td>2</td>\n",
       "    </tr>\n",
       "  </tbody>\n",
       "</table>\n",
       "</div>"
      ],
      "text/plain": [
       "                        customer_id                         seller_id  \\\n",
       "0  d6b757c9478ed7366a42b6f09dce476f  d93919c944be9cff128f6c9cb899eacb   \n",
       "1  9c224bc2354a4e8ecbd390cba06b5d07  d93919c944be9cff128f6c9cb899eacb   \n",
       "2  5551ca919431fc78c6bb85ee6f57c904  d93919c944be9cff128f6c9cb899eacb   \n",
       "3  77b4e2a15303756cc2a3b4a5d2dd3460  d93919c944be9cff128f6c9cb899eacb   \n",
       "4  6b9c954ac26835161d0f34df89ca1175  23613d49c3ac2bd302259e55c06c050c   \n",
       "\n",
       "   order_checkout_date         delivery_eta  shipping_charges  \\\n",
       "0  2017-12-20 23:34:29  2018-01-15 00:00:00             18.38   \n",
       "1  2018-01-07 16:38:24  2018-02-23 00:00:00             50.15   \n",
       "2  2018-01-06 13:23:46  2018-02-01 00:00:00             18.38   \n",
       "3  2018-02-07 23:55:11  2018-03-19 00:00:00             39.55   \n",
       "4  2018-02-04 12:11:39  2018-03-01 00:00:00             11.85   \n",
       "\n",
       "   product_category_code   X_1    X_2 product_quality_type  product_mass  \\\n",
       "0                    7.0  39.0  749.0                    A          4450   \n",
       "1                    7.0  39.0  749.0                    A          4450   \n",
       "2                    7.0  39.0  749.0                    A          4450   \n",
       "3                    7.0  39.0  749.0                    A          4450   \n",
       "4                   55.0  39.0  161.0                    C           200   \n",
       "\n",
       "   product_length  product_height  product_breadth  payment_emi_years(max)  \\\n",
       "0              50               8               45                     1.0   \n",
       "1              50               8               45                     1.0   \n",
       "2              50               8               45                     1.0   \n",
       "3              50               8               45                     1.0   \n",
       "4              20              20               20                     1.0   \n",
       "\n",
       "    price order_status  transaction_type  \n",
       "0   88.28            E                 1  \n",
       "1  120.05            E                 2  \n",
       "2   88.28            E                 1  \n",
       "3  119.45            E                 2  \n",
       "4   45.50            E                 2  "
      ]
     },
     "metadata": {},
     "output_type": "display_data"
    }
   ],
   "source": [
    "display(train.head(), test.head())"
   ]
  },
  {
   "cell_type": "code",
   "execution_count": 6,
   "metadata": {},
   "outputs": [
    {
     "data": {
      "text/html": [
       "<div>\n",
       "<style scoped>\n",
       "    .dataframe tbody tr th:only-of-type {\n",
       "        vertical-align: middle;\n",
       "    }\n",
       "\n",
       "    .dataframe tbody tr th {\n",
       "        vertical-align: top;\n",
       "    }\n",
       "\n",
       "    .dataframe thead th {\n",
       "        text-align: right;\n",
       "    }\n",
       "</style>\n",
       "<table border=\"1\" class=\"dataframe\">\n",
       "  <thead>\n",
       "    <tr style=\"text-align: right;\">\n",
       "      <th></th>\n",
       "      <th>shipping_charges</th>\n",
       "      <th>product_category_code</th>\n",
       "      <th>X_1</th>\n",
       "      <th>X_2</th>\n",
       "      <th>product_mass</th>\n",
       "      <th>product_length</th>\n",
       "      <th>product_height</th>\n",
       "      <th>product_breadth</th>\n",
       "      <th>payment_emi_years(max)</th>\n",
       "      <th>price</th>\n",
       "      <th>transaction_type</th>\n",
       "    </tr>\n",
       "  </thead>\n",
       "  <tbody>\n",
       "    <tr>\n",
       "      <th>count</th>\n",
       "      <td>7995.000000</td>\n",
       "      <td>7986.000000</td>\n",
       "      <td>7871.000000</td>\n",
       "      <td>7871.000000</td>\n",
       "      <td>8009.000000</td>\n",
       "      <td>8009.000000</td>\n",
       "      <td>8009.000000</td>\n",
       "      <td>8009.000000</td>\n",
       "      <td>7994.000000</td>\n",
       "      <td>7999.000000</td>\n",
       "      <td>8009.000000</td>\n",
       "    </tr>\n",
       "    <tr>\n",
       "      <th>mean</th>\n",
       "      <td>17.528816</td>\n",
       "      <td>35.446406</td>\n",
       "      <td>49.355609</td>\n",
       "      <td>657.180282</td>\n",
       "      <td>1518.710201</td>\n",
       "      <td>29.528031</td>\n",
       "      <td>14.410788</td>\n",
       "      <td>23.788238</td>\n",
       "      <td>1.019264</td>\n",
       "      <td>127.189734</td>\n",
       "      <td>2.791859</td>\n",
       "    </tr>\n",
       "    <tr>\n",
       "      <th>std</th>\n",
       "      <td>11.230212</td>\n",
       "      <td>21.561223</td>\n",
       "      <td>9.540988</td>\n",
       "      <td>480.678441</td>\n",
       "      <td>2230.299606</td>\n",
       "      <td>13.956180</td>\n",
       "      <td>9.135349</td>\n",
       "      <td>11.295288</td>\n",
       "      <td>0.204122</td>\n",
       "      <td>118.208656</td>\n",
       "      <td>2.571943</td>\n",
       "    </tr>\n",
       "    <tr>\n",
       "      <th>min</th>\n",
       "      <td>0.000000</td>\n",
       "      <td>0.000000</td>\n",
       "      <td>8.000000</td>\n",
       "      <td>41.000000</td>\n",
       "      <td>50.000000</td>\n",
       "      <td>11.000000</td>\n",
       "      <td>2.000000</td>\n",
       "      <td>7.000000</td>\n",
       "      <td>1.000000</td>\n",
       "      <td>10.000000</td>\n",
       "      <td>1.000000</td>\n",
       "    </tr>\n",
       "    <tr>\n",
       "      <th>25%</th>\n",
       "      <td>12.130000</td>\n",
       "      <td>14.000000</td>\n",
       "      <td>44.000000</td>\n",
       "      <td>340.000000</td>\n",
       "      <td>250.000000</td>\n",
       "      <td>18.000000</td>\n",
       "      <td>10.000000</td>\n",
       "      <td>14.000000</td>\n",
       "      <td>1.000000</td>\n",
       "      <td>64.000000</td>\n",
       "      <td>1.000000</td>\n",
       "    </tr>\n",
       "    <tr>\n",
       "      <th>50%</th>\n",
       "      <td>15.380000</td>\n",
       "      <td>34.000000</td>\n",
       "      <td>52.000000</td>\n",
       "      <td>519.000000</td>\n",
       "      <td>800.000000</td>\n",
       "      <td>25.000000</td>\n",
       "      <td>12.000000</td>\n",
       "      <td>20.000000</td>\n",
       "      <td>1.000000</td>\n",
       "      <td>94.480000</td>\n",
       "      <td>1.000000</td>\n",
       "    </tr>\n",
       "    <tr>\n",
       "      <th>75%</th>\n",
       "      <td>19.650000</td>\n",
       "      <td>55.000000</td>\n",
       "      <td>58.000000</td>\n",
       "      <td>903.000000</td>\n",
       "      <td>1750.000000</td>\n",
       "      <td>40.000000</td>\n",
       "      <td>20.000000</td>\n",
       "      <td>30.000000</td>\n",
       "      <td>1.000000</td>\n",
       "      <td>144.925000</td>\n",
       "      <td>4.000000</td>\n",
       "    </tr>\n",
       "    <tr>\n",
       "      <th>max</th>\n",
       "      <td>147.320000</td>\n",
       "      <td>73.000000</td>\n",
       "      <td>64.000000</td>\n",
       "      <td>3890.000000</td>\n",
       "      <td>23800.000000</td>\n",
       "      <td>105.000000</td>\n",
       "      <td>105.000000</td>\n",
       "      <td>92.000000</td>\n",
       "      <td>10.000000</td>\n",
       "      <td>1972.030000</td>\n",
       "      <td>24.000000</td>\n",
       "    </tr>\n",
       "  </tbody>\n",
       "</table>\n",
       "</div>"
      ],
      "text/plain": [
       "       shipping_charges  product_category_code          X_1          X_2  \\\n",
       "count       7995.000000            7986.000000  7871.000000  7871.000000   \n",
       "mean          17.528816              35.446406    49.355609   657.180282   \n",
       "std           11.230212              21.561223     9.540988   480.678441   \n",
       "min            0.000000               0.000000     8.000000    41.000000   \n",
       "25%           12.130000              14.000000    44.000000   340.000000   \n",
       "50%           15.380000              34.000000    52.000000   519.000000   \n",
       "75%           19.650000              55.000000    58.000000   903.000000   \n",
       "max          147.320000              73.000000    64.000000  3890.000000   \n",
       "\n",
       "       product_mass  product_length  product_height  product_breadth  \\\n",
       "count   8009.000000     8009.000000     8009.000000      8009.000000   \n",
       "mean    1518.710201       29.528031       14.410788        23.788238   \n",
       "std     2230.299606       13.956180        9.135349        11.295288   \n",
       "min       50.000000       11.000000        2.000000         7.000000   \n",
       "25%      250.000000       18.000000       10.000000        14.000000   \n",
       "50%      800.000000       25.000000       12.000000        20.000000   \n",
       "75%     1750.000000       40.000000       20.000000        30.000000   \n",
       "max    23800.000000      105.000000      105.000000        92.000000   \n",
       "\n",
       "       payment_emi_years(max)        price  transaction_type  \n",
       "count             7994.000000  7999.000000       8009.000000  \n",
       "mean                 1.019264   127.189734          2.791859  \n",
       "std                  0.204122   118.208656          2.571943  \n",
       "min                  1.000000    10.000000          1.000000  \n",
       "25%                  1.000000    64.000000          1.000000  \n",
       "50%                  1.000000    94.480000          1.000000  \n",
       "75%                  1.000000   144.925000          4.000000  \n",
       "max                 10.000000  1972.030000         24.000000  "
      ]
     },
     "metadata": {},
     "output_type": "display_data"
    },
    {
     "data": {
      "text/html": [
       "<div>\n",
       "<style scoped>\n",
       "    .dataframe tbody tr th:only-of-type {\n",
       "        vertical-align: middle;\n",
       "    }\n",
       "\n",
       "    .dataframe tbody tr th {\n",
       "        vertical-align: top;\n",
       "    }\n",
       "\n",
       "    .dataframe thead th {\n",
       "        text-align: right;\n",
       "    }\n",
       "</style>\n",
       "<table border=\"1\" class=\"dataframe\">\n",
       "  <thead>\n",
       "    <tr style=\"text-align: right;\">\n",
       "      <th></th>\n",
       "      <th>shipping_charges</th>\n",
       "      <th>product_category_code</th>\n",
       "      <th>X_1</th>\n",
       "      <th>X_2</th>\n",
       "      <th>product_mass</th>\n",
       "      <th>product_length</th>\n",
       "      <th>product_height</th>\n",
       "      <th>product_breadth</th>\n",
       "      <th>payment_emi_years(max)</th>\n",
       "      <th>price</th>\n",
       "      <th>transaction_type</th>\n",
       "    </tr>\n",
       "  </thead>\n",
       "  <tbody>\n",
       "    <tr>\n",
       "      <th>count</th>\n",
       "      <td>6194.000000</td>\n",
       "      <td>6202.000000</td>\n",
       "      <td>6134.000000</td>\n",
       "      <td>6134.000000</td>\n",
       "      <td>6218.000000</td>\n",
       "      <td>6218.000000</td>\n",
       "      <td>6218.000000</td>\n",
       "      <td>6218.000000</td>\n",
       "      <td>6204.000000</td>\n",
       "      <td>6203.000000</td>\n",
       "      <td>6218.000000</td>\n",
       "    </tr>\n",
       "    <tr>\n",
       "      <th>mean</th>\n",
       "      <td>17.965798</td>\n",
       "      <td>36.032731</td>\n",
       "      <td>47.664330</td>\n",
       "      <td>754.848549</td>\n",
       "      <td>1366.221132</td>\n",
       "      <td>28.619492</td>\n",
       "      <td>14.696848</td>\n",
       "      <td>21.880830</td>\n",
       "      <td>1.024339</td>\n",
       "      <td>106.583029</td>\n",
       "      <td>2.478610</td>\n",
       "    </tr>\n",
       "    <tr>\n",
       "      <th>std</th>\n",
       "      <td>10.958789</td>\n",
       "      <td>21.906695</td>\n",
       "      <td>10.810086</td>\n",
       "      <td>682.672265</td>\n",
       "      <td>2473.171688</td>\n",
       "      <td>15.129646</td>\n",
       "      <td>12.617405</td>\n",
       "      <td>11.226625</td>\n",
       "      <td>0.224748</td>\n",
       "      <td>104.857292</td>\n",
       "      <td>2.351104</td>\n",
       "    </tr>\n",
       "    <tr>\n",
       "      <th>min</th>\n",
       "      <td>0.030000</td>\n",
       "      <td>0.000000</td>\n",
       "      <td>5.000000</td>\n",
       "      <td>30.000000</td>\n",
       "      <td>50.000000</td>\n",
       "      <td>7.000000</td>\n",
       "      <td>2.000000</td>\n",
       "      <td>9.000000</td>\n",
       "      <td>1.000000</td>\n",
       "      <td>10.340000</td>\n",
       "      <td>1.000000</td>\n",
       "    </tr>\n",
       "    <tr>\n",
       "      <th>25%</th>\n",
       "      <td>12.790000</td>\n",
       "      <td>14.000000</td>\n",
       "      <td>41.000000</td>\n",
       "      <td>331.000000</td>\n",
       "      <td>200.000000</td>\n",
       "      <td>18.000000</td>\n",
       "      <td>7.000000</td>\n",
       "      <td>15.000000</td>\n",
       "      <td>1.000000</td>\n",
       "      <td>46.630000</td>\n",
       "      <td>1.000000</td>\n",
       "    </tr>\n",
       "    <tr>\n",
       "      <th>50%</th>\n",
       "      <td>15.495000</td>\n",
       "      <td>33.000000</td>\n",
       "      <td>50.000000</td>\n",
       "      <td>540.000000</td>\n",
       "      <td>500.000000</td>\n",
       "      <td>23.000000</td>\n",
       "      <td>12.000000</td>\n",
       "      <td>20.000000</td>\n",
       "      <td>1.000000</td>\n",
       "      <td>74.190000</td>\n",
       "      <td>1.000000</td>\n",
       "    </tr>\n",
       "    <tr>\n",
       "      <th>75%</th>\n",
       "      <td>19.230000</td>\n",
       "      <td>55.000000</td>\n",
       "      <td>56.000000</td>\n",
       "      <td>903.000000</td>\n",
       "      <td>1250.000000</td>\n",
       "      <td>35.000000</td>\n",
       "      <td>18.000000</td>\n",
       "      <td>27.000000</td>\n",
       "      <td>1.000000</td>\n",
       "      <td>125.675000</td>\n",
       "      <td>3.000000</td>\n",
       "    </tr>\n",
       "    <tr>\n",
       "      <th>max</th>\n",
       "      <td>206.450000</td>\n",
       "      <td>73.000000</td>\n",
       "      <td>64.000000</td>\n",
       "      <td>3950.000000</td>\n",
       "      <td>30000.000000</td>\n",
       "      <td>105.000000</td>\n",
       "      <td>105.000000</td>\n",
       "      <td>118.000000</td>\n",
       "      <td>8.000000</td>\n",
       "      <td>984.680000</td>\n",
       "      <td>20.000000</td>\n",
       "    </tr>\n",
       "  </tbody>\n",
       "</table>\n",
       "</div>"
      ],
      "text/plain": [
       "       shipping_charges  product_category_code          X_1          X_2  \\\n",
       "count       6194.000000            6202.000000  6134.000000  6134.000000   \n",
       "mean          17.965798              36.032731    47.664330   754.848549   \n",
       "std           10.958789              21.906695    10.810086   682.672265   \n",
       "min            0.030000               0.000000     5.000000    30.000000   \n",
       "25%           12.790000              14.000000    41.000000   331.000000   \n",
       "50%           15.495000              33.000000    50.000000   540.000000   \n",
       "75%           19.230000              55.000000    56.000000   903.000000   \n",
       "max          206.450000              73.000000    64.000000  3950.000000   \n",
       "\n",
       "       product_mass  product_length  product_height  product_breadth  \\\n",
       "count   6218.000000     6218.000000     6218.000000      6218.000000   \n",
       "mean    1366.221132       28.619492       14.696848        21.880830   \n",
       "std     2473.171688       15.129646       12.617405        11.226625   \n",
       "min       50.000000        7.000000        2.000000         9.000000   \n",
       "25%      200.000000       18.000000        7.000000        15.000000   \n",
       "50%      500.000000       23.000000       12.000000        20.000000   \n",
       "75%     1250.000000       35.000000       18.000000        27.000000   \n",
       "max    30000.000000      105.000000      105.000000       118.000000   \n",
       "\n",
       "       payment_emi_years(max)        price  transaction_type  \n",
       "count             6204.000000  6203.000000       6218.000000  \n",
       "mean                 1.024339   106.583029          2.478610  \n",
       "std                  0.224748   104.857292          2.351104  \n",
       "min                  1.000000    10.340000          1.000000  \n",
       "25%                  1.000000    46.630000          1.000000  \n",
       "50%                  1.000000    74.190000          1.000000  \n",
       "75%                  1.000000   125.675000          3.000000  \n",
       "max                  8.000000   984.680000         20.000000  "
      ]
     },
     "metadata": {},
     "output_type": "display_data"
    }
   ],
   "source": [
    "# Summary Statistics\n",
    "\n",
    "display(train.describe(), test.describe())"
   ]
  },
  {
   "cell_type": "code",
   "execution_count": 7,
   "metadata": {
    "scrolled": true
   },
   "outputs": [
    {
     "data": {
      "text/plain": [
       "customer_id                object\n",
       "seller_id                  object\n",
       "order_checkout_date        object\n",
       "delivery_eta               object\n",
       "shipping_charges          float64\n",
       "product_category_code     float64\n",
       "X_1                       float64\n",
       "X_2                       float64\n",
       "product_quality_type       object\n",
       "product_mass                int64\n",
       "product_length              int64\n",
       "product_height              int64\n",
       "product_breadth             int64\n",
       "payment_emi_years(max)    float64\n",
       "price                     float64\n",
       "order_status               object\n",
       "transaction_type            int64\n",
       "coupon_code                object\n",
       "payment_code               object\n",
       "dtype: object"
      ]
     },
     "metadata": {},
     "output_type": "display_data"
    },
    {
     "data": {
      "text/plain": [
       "customer_id                object\n",
       "seller_id                  object\n",
       "order_checkout_date        object\n",
       "delivery_eta               object\n",
       "shipping_charges          float64\n",
       "product_category_code     float64\n",
       "X_1                       float64\n",
       "X_2                       float64\n",
       "product_quality_type       object\n",
       "product_mass                int64\n",
       "product_length              int64\n",
       "product_height              int64\n",
       "product_breadth             int64\n",
       "payment_emi_years(max)    float64\n",
       "price                     float64\n",
       "order_status               object\n",
       "transaction_type            int64\n",
       "dtype: object"
      ]
     },
     "metadata": {},
     "output_type": "display_data"
    }
   ],
   "source": [
    "display(train.dtypes, test.dtypes)"
   ]
  },
  {
   "cell_type": "code",
   "execution_count": 8,
   "metadata": {},
   "outputs": [
    {
     "data": {
      "text/plain": [
       "customer_id                 0\n",
       "seller_id                   0\n",
       "order_checkout_date         0\n",
       "delivery_eta                0\n",
       "shipping_charges           14\n",
       "product_category_code      23\n",
       "X_1                       138\n",
       "X_2                       138\n",
       "product_quality_type      138\n",
       "product_mass                0\n",
       "product_length              0\n",
       "product_height              0\n",
       "product_breadth             0\n",
       "payment_emi_years(max)     15\n",
       "price                      10\n",
       "order_status                0\n",
       "transaction_type            0\n",
       "coupon_code                 0\n",
       "payment_code                0\n",
       "dtype: int64"
      ]
     },
     "metadata": {},
     "output_type": "display_data"
    },
    {
     "data": {
      "text/plain": [
       "customer_id                 0\n",
       "seller_id                   0\n",
       "order_checkout_date         0\n",
       "delivery_eta                0\n",
       "shipping_charges           14\n",
       "product_category_code      23\n",
       "X_1                       138\n",
       "X_2                       138\n",
       "product_quality_type      138\n",
       "product_mass                0\n",
       "product_length              0\n",
       "product_height              0\n",
       "product_breadth             0\n",
       "payment_emi_years(max)     15\n",
       "price                      10\n",
       "order_status                0\n",
       "transaction_type            0\n",
       "coupon_code                 0\n",
       "payment_code                0\n",
       "dtype: int64"
      ]
     },
     "metadata": {},
     "output_type": "display_data"
    }
   ],
   "source": [
    "# Null values\n",
    "\n",
    "display(train.isnull().sum(), train.isnull().sum())"
   ]
  },
  {
   "cell_type": "code",
   "execution_count": 9,
   "metadata": {},
   "outputs": [
    {
     "data": {
      "text/html": [
       "<div>\n",
       "<style scoped>\n",
       "    .dataframe tbody tr th:only-of-type {\n",
       "        vertical-align: middle;\n",
       "    }\n",
       "\n",
       "    .dataframe tbody tr th {\n",
       "        vertical-align: top;\n",
       "    }\n",
       "\n",
       "    .dataframe thead th {\n",
       "        text-align: right;\n",
       "    }\n",
       "</style>\n",
       "<table border=\"1\" class=\"dataframe\">\n",
       "  <thead>\n",
       "    <tr style=\"text-align: right;\">\n",
       "      <th></th>\n",
       "      <th>Total</th>\n",
       "      <th>Percent</th>\n",
       "    </tr>\n",
       "  </thead>\n",
       "  <tbody>\n",
       "    <tr>\n",
       "      <th>X_2</th>\n",
       "      <td>138</td>\n",
       "      <td>1.72</td>\n",
       "    </tr>\n",
       "    <tr>\n",
       "      <th>X_1</th>\n",
       "      <td>138</td>\n",
       "      <td>1.72</td>\n",
       "    </tr>\n",
       "    <tr>\n",
       "      <th>product_quality_type</th>\n",
       "      <td>138</td>\n",
       "      <td>1.72</td>\n",
       "    </tr>\n",
       "    <tr>\n",
       "      <th>product_category_code</th>\n",
       "      <td>23</td>\n",
       "      <td>0.29</td>\n",
       "    </tr>\n",
       "    <tr>\n",
       "      <th>payment_emi_years(max)</th>\n",
       "      <td>15</td>\n",
       "      <td>0.19</td>\n",
       "    </tr>\n",
       "    <tr>\n",
       "      <th>shipping_charges</th>\n",
       "      <td>14</td>\n",
       "      <td>0.17</td>\n",
       "    </tr>\n",
       "    <tr>\n",
       "      <th>price</th>\n",
       "      <td>10</td>\n",
       "      <td>0.12</td>\n",
       "    </tr>\n",
       "  </tbody>\n",
       "</table>\n",
       "</div>"
      ],
      "text/plain": [
       "                        Total  Percent\n",
       "X_2                       138     1.72\n",
       "X_1                       138     1.72\n",
       "product_quality_type      138     1.72\n",
       "product_category_code      23     0.29\n",
       "payment_emi_years(max)     15     0.19\n",
       "shipping_charges           14     0.17\n",
       "price                      10     0.12"
      ]
     },
     "metadata": {},
     "output_type": "display_data"
    },
    {
     "data": {
      "text/html": [
       "<div>\n",
       "<style scoped>\n",
       "    .dataframe tbody tr th:only-of-type {\n",
       "        vertical-align: middle;\n",
       "    }\n",
       "\n",
       "    .dataframe tbody tr th {\n",
       "        vertical-align: top;\n",
       "    }\n",
       "\n",
       "    .dataframe thead th {\n",
       "        text-align: right;\n",
       "    }\n",
       "</style>\n",
       "<table border=\"1\" class=\"dataframe\">\n",
       "  <thead>\n",
       "    <tr style=\"text-align: right;\">\n",
       "      <th></th>\n",
       "      <th>Total</th>\n",
       "      <th>Percent</th>\n",
       "    </tr>\n",
       "  </thead>\n",
       "  <tbody>\n",
       "    <tr>\n",
       "      <th>product_quality_type</th>\n",
       "      <td>84</td>\n",
       "      <td>1.35</td>\n",
       "    </tr>\n",
       "    <tr>\n",
       "      <th>X_1</th>\n",
       "      <td>84</td>\n",
       "      <td>1.35</td>\n",
       "    </tr>\n",
       "    <tr>\n",
       "      <th>X_2</th>\n",
       "      <td>84</td>\n",
       "      <td>1.35</td>\n",
       "    </tr>\n",
       "    <tr>\n",
       "      <th>shipping_charges</th>\n",
       "      <td>24</td>\n",
       "      <td>0.39</td>\n",
       "    </tr>\n",
       "    <tr>\n",
       "      <th>product_category_code</th>\n",
       "      <td>16</td>\n",
       "      <td>0.26</td>\n",
       "    </tr>\n",
       "    <tr>\n",
       "      <th>price</th>\n",
       "      <td>15</td>\n",
       "      <td>0.24</td>\n",
       "    </tr>\n",
       "    <tr>\n",
       "      <th>payment_emi_years(max)</th>\n",
       "      <td>14</td>\n",
       "      <td>0.23</td>\n",
       "    </tr>\n",
       "  </tbody>\n",
       "</table>\n",
       "</div>"
      ],
      "text/plain": [
       "                        Total  Percent\n",
       "product_quality_type       84     1.35\n",
       "X_1                        84     1.35\n",
       "X_2                        84     1.35\n",
       "shipping_charges           24     0.39\n",
       "product_category_code      16     0.26\n",
       "price                      15     0.24\n",
       "payment_emi_years(max)     14     0.23"
      ]
     },
     "metadata": {},
     "output_type": "display_data"
    }
   ],
   "source": [
    "# % MISSING VALUES\n",
    "\n",
    "def missing(df):\n",
    "\n",
    "    total = df.isnull().sum().sort_values(ascending = False)[df.isnull().sum().sort_values(ascending = False) != 0]\n",
    "    percent = round(df.isnull().sum().sort_values(ascending = False)/len(df)*100,2)[round(df.isnull().sum().sort_values(ascending = False)/len(df)*100,2) != 0]\n",
    "    return pd.concat([total, percent], axis=1, keys=['Total','Percent'])\n",
    "\n",
    "display(missing(train))\n",
    "display(missing(test))\n"
   ]
  },
  {
   "cell_type": "markdown",
   "metadata": {},
   "source": [
    "## Train"
   ]
  },
  {
   "cell_type": "code",
   "execution_count": 10,
   "metadata": {},
   "outputs": [
    {
     "data": {
      "text/plain": [
       "725"
      ]
     },
     "metadata": {},
     "output_type": "display_data"
    },
    {
     "data": {
      "text/plain": [
       "50"
      ]
     },
     "metadata": {},
     "output_type": "display_data"
    },
    {
     "data": {
      "text/plain": [
       "12"
      ]
     },
     "metadata": {},
     "output_type": "display_data"
    },
    {
     "data": {
      "text/plain": [
       "52"
      ]
     },
     "metadata": {},
     "output_type": "display_data"
    },
    {
     "data": {
      "text/plain": [
       "8"
      ]
     },
     "metadata": {},
     "output_type": "display_data"
    },
    {
     "data": {
      "text/plain": [
       "1931"
      ]
     },
     "metadata": {},
     "output_type": "display_data"
    },
    {
     "data": {
      "text/plain": [
       "3694"
      ]
     },
     "metadata": {},
     "output_type": "display_data"
    }
   ],
   "source": [
    "display(train['X_2'].nunique(), train['X_1'].nunique(), train['product_quality_type'].nunique()\n",
    "        , train['product_category_code'].nunique(), train['payment_emi_years(max)'].nunique()\n",
    "        , train['shipping_charges'].nunique(), train['price'].nunique())"
   ]
  },
  {
   "cell_type": "code",
   "execution_count": 11,
   "metadata": {},
   "outputs": [],
   "source": [
    "# replacing null\n",
    "\n",
    "train['X_2'] = train['X_2'].fillna(train['X_2'].mode()[0])\n",
    "train['X_1'] = train['X_1'].fillna(train['X_1'].mode()[0])\n",
    "train['product_quality_type'] = train['product_quality_type'].fillna(train['product_quality_type'].mode()[0])\n",
    "train['product_category_code'] = train['product_category_code'].fillna(train['product_category_code'].mode()[0])\n",
    "train['payment_emi_years(max)'] = train['payment_emi_years(max)'].fillna(train['payment_emi_years(max)'].mode()[0])\n",
    "train['shipping_charges'] = train['shipping_charges'].fillna(train['shipping_charges'].mean())\n",
    "train['price'] = train['price'].fillna(train['price'].mean())"
   ]
  },
  {
   "cell_type": "code",
   "execution_count": 12,
   "metadata": {},
   "outputs": [
    {
     "data": {
      "text/plain": [
       "12"
      ]
     },
     "metadata": {},
     "output_type": "display_data"
    },
    {
     "data": {
      "text/plain": [
       "5"
      ]
     },
     "metadata": {},
     "output_type": "display_data"
    },
    {
     "data": {
      "text/plain": [
       "7"
      ]
     },
     "metadata": {},
     "output_type": "display_data"
    },
    {
     "data": {
      "text/plain": [
       "5"
      ]
     },
     "metadata": {},
     "output_type": "display_data"
    }
   ],
   "source": [
    "display(train['product_quality_type'].nunique(), train['order_status'].nunique(), train['coupon_code'].nunique()\n",
    "        , train['payment_code'].nunique())"
   ]
  },
  {
   "cell_type": "code",
   "execution_count": 13,
   "metadata": {},
   "outputs": [
    {
     "data": {
      "text/plain": [
       "array(['D', 'B', 'A', 'E', 'G', 'C', 'F', 'H', 'K', 'I', 'J', 'L'],\n",
       "      dtype=object)"
      ]
     },
     "metadata": {},
     "output_type": "display_data"
    },
    {
     "data": {
      "text/plain": [
       "array(['E', 'H', 'N', 'R', 'A'], dtype=object)"
      ]
     },
     "metadata": {},
     "output_type": "display_data"
    },
    {
     "data": {
      "text/plain": [
       "array(['CLOTH20', 'CLOTH15', 'FURN20', 'KIDS15', 'COSMETICS25', 'ELEC10',\n",
       "       'ELEC15'], dtype=object)"
      ]
     },
     "metadata": {},
     "output_type": "display_data"
    },
    {
     "data": {
      "text/plain": [
       "array(['GPAY20', 'CITI10', 'APAY15', 'PAYTM25', 'HDFC20'], dtype=object)"
      ]
     },
     "metadata": {},
     "output_type": "display_data"
    }
   ],
   "source": [
    "display(train['product_quality_type'].unique(), train['order_status'].unique(), train['coupon_code'].unique()\n",
    "        , train['payment_code'].unique())"
   ]
  },
  {
   "cell_type": "code",
   "execution_count": 14,
   "metadata": {},
   "outputs": [],
   "source": [
    "# mapping labels\n",
    "\n",
    "train['coupon_code'] = train['coupon_code'].map({'CLOTH15':0, 'CLOTH20':1, 'COSMETICS25':2, 'ELEC10':3\n",
    "                                                 , 'ELEC15':4, 'FURN20':5, 'KIDS15':6})\n",
    "train['payment_code'] = train['payment_code'].map({'APAY15':0, 'CITI10':1, 'GPAY20':2, 'HDFC20':3, 'PAYTM25':4})"
   ]
  },
  {
   "cell_type": "code",
   "execution_count": 15,
   "metadata": {},
   "outputs": [],
   "source": [
    "from sklearn.preprocessing import LabelEncoder\n",
    "\n",
    "train_product_quality_type = LabelEncoder()\n",
    "train_order_status = LabelEncoder()\n",
    "\n",
    "train['product_quality_type'] = train_product_quality_type.fit_transform(train['product_quality_type'])\n",
    "train['order_status'] = train_order_status.fit_transform(train['order_status'])"
   ]
  },
  {
   "cell_type": "code",
   "execution_count": 16,
   "metadata": {},
   "outputs": [
    {
     "data": {
      "text/plain": [
       "(8009, 27)"
      ]
     },
     "execution_count": 16,
     "metadata": {},
     "output_type": "execute_result"
    }
   ],
   "source": [
    "train['order_checkout_date'] = pd.to_datetime(train['order_checkout_date'])\n",
    "\n",
    "train['order_year'] = train['order_checkout_date'].dt.year\n",
    "train['order_month'] = train['order_checkout_date'].dt.month\n",
    "train['order_day'] = train['order_checkout_date'].dt.day\n",
    "train['order_hour'] = train['order_checkout_date'].dt.hour\n",
    "train['order_minute'] = train['order_checkout_date'].dt.minute\n",
    "train['order_second'] = train['order_checkout_date'].dt.second\n",
    "train['order_weekday'] = train['order_checkout_date'].dt.weekday\n",
    "train['order_week'] = train['order_checkout_date'].dt.week\n",
    "train.shape"
   ]
  },
  {
   "cell_type": "code",
   "execution_count": 17,
   "metadata": {},
   "outputs": [
    {
     "data": {
      "text/plain": [
       "(8009, 32)"
      ]
     },
     "execution_count": 17,
     "metadata": {},
     "output_type": "execute_result"
    }
   ],
   "source": [
    "train['delivery_eta'] = pd.to_datetime(train['delivery_eta'])\n",
    "\n",
    "train['delivery_year'] = train['delivery_eta'].dt.year\n",
    "train['delivery_month'] = train['delivery_eta'].dt.month\n",
    "train['delivery_day'] = train['delivery_eta'].dt.day\n",
    "train['delivery_weekday'] = train['delivery_eta'].dt.weekday\n",
    "train['delivery_week'] = train['delivery_eta'].dt.week\n",
    "train.shape"
   ]
  },
  {
   "cell_type": "code",
   "execution_count": 18,
   "metadata": {},
   "outputs": [
    {
     "name": "stdout",
     "output_type": "stream",
     "text": [
      "<class 'pandas.core.frame.DataFrame'>\n",
      "RangeIndex: 8009 entries, 0 to 8008\n",
      "Data columns (total 32 columns):\n",
      " #   Column                  Non-Null Count  Dtype         \n",
      "---  ------                  --------------  -----         \n",
      " 0   customer_id             8009 non-null   object        \n",
      " 1   seller_id               8009 non-null   object        \n",
      " 2   order_checkout_date     8009 non-null   datetime64[ns]\n",
      " 3   delivery_eta            8009 non-null   datetime64[ns]\n",
      " 4   shipping_charges        8009 non-null   float64       \n",
      " 5   product_category_code   8009 non-null   float64       \n",
      " 6   X_1                     8009 non-null   float64       \n",
      " 7   X_2                     8009 non-null   float64       \n",
      " 8   product_quality_type    8009 non-null   int32         \n",
      " 9   product_mass            8009 non-null   int64         \n",
      " 10  product_length          8009 non-null   int64         \n",
      " 11  product_height          8009 non-null   int64         \n",
      " 12  product_breadth         8009 non-null   int64         \n",
      " 13  payment_emi_years(max)  8009 non-null   float64       \n",
      " 14  price                   8009 non-null   float64       \n",
      " 15  order_status            8009 non-null   int32         \n",
      " 16  transaction_type        8009 non-null   int64         \n",
      " 17  coupon_code             8009 non-null   int64         \n",
      " 18  payment_code            8009 non-null   int64         \n",
      " 19  order_year              8009 non-null   int64         \n",
      " 20  order_month             8009 non-null   int64         \n",
      " 21  order_day               8009 non-null   int64         \n",
      " 22  order_hour              8009 non-null   int64         \n",
      " 23  order_minute            8009 non-null   int64         \n",
      " 24  order_second            8009 non-null   int64         \n",
      " 25  order_weekday           8009 non-null   int64         \n",
      " 26  order_week              8009 non-null   int64         \n",
      " 27  delivery_year           8009 non-null   int64         \n",
      " 28  delivery_month          8009 non-null   int64         \n",
      " 29  delivery_day            8009 non-null   int64         \n",
      " 30  delivery_weekday        8009 non-null   int64         \n",
      " 31  delivery_week           8009 non-null   int64         \n",
      "dtypes: datetime64[ns](2), float64(6), int32(2), int64(20), object(2)\n",
      "memory usage: 1.9+ MB\n"
     ]
    }
   ],
   "source": [
    "train.info()"
   ]
  },
  {
   "cell_type": "markdown",
   "metadata": {},
   "source": [
    "from sklearn.preprocessing import StandardScaler\n",
    "sc = StandardScaler()\n",
    "train[['shipping_charges', 'product_mass', 'product_length', 'product_height', 'product_breadth', 'price']] = sc.fit_transform(train[['shipping_charges', 'product_mass', 'product_length', 'product_height', 'product_breadth', 'price']])"
   ]
  },
  {
   "cell_type": "code",
   "execution_count": 19,
   "metadata": {},
   "outputs": [
    {
     "data": {
      "text/plain": [
       "(8009, 26)"
      ]
     },
     "metadata": {},
     "output_type": "display_data"
    },
    {
     "data": {
      "text/plain": [
       "(8009,)"
      ]
     },
     "metadata": {},
     "output_type": "display_data"
    },
    {
     "data": {
      "text/plain": [
       "(8009,)"
      ]
     },
     "metadata": {},
     "output_type": "display_data"
    }
   ],
   "source": [
    "X = train.drop(['customer_id', 'seller_id', 'order_checkout_date', 'delivery_eta', 'coupon_code', 'payment_code'], axis=1)\n",
    "y1 = train['coupon_code']\n",
    "y2 = train['payment_code']\n",
    "\n",
    "display(X.shape, y1.shape, y2.shape)"
   ]
  },
  {
   "cell_type": "markdown",
   "metadata": {},
   "source": [
    "from imblearn import under_sampling, over_sampling\n",
    "from imblearn.over_sampling import SMOTE"
   ]
  },
  {
   "cell_type": "markdown",
   "metadata": {},
   "source": [
    "\n",
    "\n",
    "\n",
    "# example of oversampling a multi-class classification dataset\n",
    "\n",
    "from imblearn.over_sampling import SMOTE\n",
    "from collections import Counter\n",
    "\n",
    "from sklearn.preprocessing import LabelEncoder\n",
    "\n",
    "# transform the dataset\n",
    "oversample = SMOTE()\n",
    "X, y1 = oversample.fit_resample(X, y1)\n",
    "X, y2 = oversample.fit_resample(X, y2)\n",
    "# summarize distribution\n",
    "counter1 = Counter(y1)\n",
    "counter2 = Counter(y2)\n",
    "for k,v in counter1.items():\n",
    "    per = v / len(y1) * 100\n",
    "    print('Class=%d, n=%d (%.3f%%)' % (k, v, per))\n",
    "for k,v in counter2.items():\n",
    "    per = v / len(y2) * 100\n",
    "    print('Class=%d, n=%d (%.3f%%)' % (k, v, per))\n",
    "# plot the distribution\n",
    "pyplot.bar(counter1.keys(), counter1.values())\n",
    "pyplot.show()\n",
    "pyplot.bar(counter2.keys(), counter2.values())\n",
    "pyplot.show()"
   ]
  },
  {
   "cell_type": "code",
   "execution_count": 20,
   "metadata": {},
   "outputs": [],
   "source": [
    "# splitting data\n",
    "\n",
    "from sklearn.model_selection import train_test_split\n",
    "X_train, X_validate, y1_train, y1_validate = train_test_split(X, y1, test_size=0.2, random_state=42)"
   ]
  },
  {
   "cell_type": "markdown",
   "metadata": {},
   "source": [
    "tunning "
   ]
  },
  {
   "cell_type": "code",
   "execution_count": 21,
   "metadata": {},
   "outputs": [],
   "source": [
    "from sklearn import preprocessing"
   ]
  },
  {
   "cell_type": "markdown",
   "metadata": {},
   "source": [
    "# scaler waste from sklearn import preprocessing\n",
    "X_train = preprocessing.scale(X_train)\n",
    "scaler = preprocessing.StandardScaler().fit(X_train)"
   ]
  },
  {
   "cell_type": "markdown",
   "metadata": {},
   "source": [
    "#min_max_scaler = preprocessing.MinMaxScaler()\n",
    "#X_train = min_max_scaler.fit_transform(X_train)\n",
    "#X_train\n",
    "max_abs_scaler = preprocessing.MaxAbsScaler()\n",
    "X_train = max_abs_scaler.fit_transform(X_train)\n",
    "X_train"
   ]
  },
  {
   "cell_type": "code",
   "execution_count": 22,
   "metadata": {},
   "outputs": [],
   "source": [
    "# creating model\n",
    "\n",
    "from sklearn.linear_model import LogisticRegression\n",
    "model1 = LogisticRegression() \n",
    "model2 = LogisticRegression() "
   ]
  },
  {
   "cell_type": "markdown",
   "metadata": {},
   "source": [
    "from sklearn.neural_network import MLPClassifier\n",
    "model1 = MLPClassifier(hidden_layer_sizes=(4,1), max_iter=300, activation = 'relu', solver='adam', random_state=1)\n",
    "model2 = MLPClassifier(hidden_layer_sizes=(4,1), max_iter=300, activation = 'relu', solver='adam', random_state=1)\n",
    "#model1 = MLPClassifier(solver='lbfgs', alpha=1e-5, hidden_layer_sizes=(5, 2), random_state=1)\n",
    "#model2 = MLPClassifier(solver='lbfgs', alpha=1e-5, hidden_layer_sizes=(5, 2), random_state=1)"
   ]
  },
  {
   "cell_type": "markdown",
   "metadata": {},
   "source": [
    "from sklearn.naive_bayes import GaussianNB\n",
    "model1 = GaussianNB()\n",
    "model2 = GaussianNB()\n",
    "#model1.fit(X_train, y1_train)\n",
    "#predicted= model.predict([[0,2]])"
   ]
  },
  {
   "cell_type": "markdown",
   "metadata": {},
   "source": [
    "# creating model\n",
    "\n",
    "from xgboost import XGBClassifier\n",
    "xgb = XGBClassifier() \n",
    "model1 = XGBClassifier()\n",
    "model2 = XGBClassifier()"
   ]
  },
  {
   "cell_type": "raw",
   "metadata": {},
   "source": [
    "#apply catboost"
   ]
  },
  {
   "cell_type": "markdown",
   "metadata": {},
   "source": [
    "categorical_features_indices = np.where(X.dtypes != np.float)[0]\n",
    "from catboost import CatBoostClassifier\n",
    "model1=CatBoostClassifier(iterations=50, depth=3, learning_rate=0.1)\n",
    "model1.fit(X_train, y1_train,cat_features=categorical_features_indices,eval_set=(X_validate, y1_validate),verbose= False)\n",
    "model2=CatBoostClassifier(iterations=50, depth=3, learning_rate=0.1)\n",
    "model2.fit(X_train, y2_train,cat_features=categorical_features_indices,eval_set=(X_validate, y2_validate),verbose= False)\n",
    "y1_pred = model1.predict(X_validate)\n",
    "y1_pred\n",
    "y2_pred = model2.predict(X_validate)\n",
    "y2_pred\n",
    "# Evaluation\n",
    "from sklearn.metrics import recall_score\n",
    "recall_score(y1_validate, y1_pred, average='weighted')\n",
    "# Evaluation\n",
    "from sklearn.metrics import recall_score\n",
    "recall_score(y2_validate, y2_pred, average='weighted')"
   ]
  },
  {
   "cell_type": "markdown",
   "metadata": {},
   "source": [
    "# creating model\n",
    "\n",
    "from sklearn.tree import DecisionTreeClassifier\n",
    "model1 = DecisionTreeClassifier()\n",
    "model2 = DecisionTreeClassifier()"
   ]
  },
  {
   "cell_type": "markdown",
   "metadata": {},
   "source": [
    "from sklearn.ensemble import RandomForestClassifier\n",
    "model1=RandomForestClassifier(n_estimators=100)\n",
    "#model2=RandomForestClassifier(n_estimators=100)"
   ]
  },
  {
   "cell_type": "code",
   "execution_count": 23,
   "metadata": {},
   "outputs": [
    {
     "name": "stderr",
     "output_type": "stream",
     "text": [
      "C:\\Users\\lohani\\Anaconda3\\lib\\site-packages\\sklearn\\linear_model\\_logistic.py:764: ConvergenceWarning: lbfgs failed to converge (status=1):\n",
      "STOP: TOTAL NO. of ITERATIONS REACHED LIMIT.\n",
      "\n",
      "Increase the number of iterations (max_iter) or scale the data as shown in:\n",
      "    https://scikit-learn.org/stable/modules/preprocessing.html\n",
      "Please also refer to the documentation for alternative solver options:\n",
      "    https://scikit-learn.org/stable/modules/linear_model.html#logistic-regression\n",
      "  extra_warning_msg=_LOGISTIC_SOLVER_CONVERGENCE_MSG)\n"
     ]
    },
    {
     "data": {
      "text/plain": [
       "LogisticRegression()"
      ]
     },
     "execution_count": 23,
     "metadata": {},
     "output_type": "execute_result"
    }
   ],
   "source": [
    "model1.fit(X_train, y1_train)"
   ]
  },
  {
   "cell_type": "code",
   "execution_count": 24,
   "metadata": {},
   "outputs": [
    {
     "data": {
      "text/plain": [
       "array([4, 4, 4, ..., 3, 4, 4], dtype=int64)"
      ]
     },
     "execution_count": 24,
     "metadata": {},
     "output_type": "execute_result"
    }
   ],
   "source": [
    "y1_pred = model1.predict(X_validate)\n",
    "y1_pred"
   ]
  },
  {
   "cell_type": "code",
   "execution_count": 25,
   "metadata": {},
   "outputs": [
    {
     "data": {
      "text/plain": [
       "0.5711610486891385"
      ]
     },
     "execution_count": 25,
     "metadata": {},
     "output_type": "execute_result"
    }
   ],
   "source": [
    "# Evaluation\n",
    "from sklearn.metrics import recall_score\n",
    "recall_score(y1_validate, y1_pred, average='weighted')"
   ]
  },
  {
   "cell_type": "code",
   "execution_count": null,
   "metadata": {},
   "outputs": [],
   "source": [
    "# splitting data\n",
    "\n",
    "from sklearn.model_selection import train_test_split\n",
    "X_train, X_validate, y2_train, y2_validate = train_test_split(X, y2, test_size=0.2, random_state=42)"
   ]
  },
  {
   "cell_type": "code",
   "execution_count": null,
   "metadata": {},
   "outputs": [],
   "source": [
    "model2.fit(X_train, y2_train)"
   ]
  },
  {
   "cell_type": "code",
   "execution_count": null,
   "metadata": {},
   "outputs": [],
   "source": [
    "y2_pred = model2.predict(X_validate)\n",
    "y2_pred"
   ]
  },
  {
   "cell_type": "code",
   "execution_count": null,
   "metadata": {},
   "outputs": [],
   "source": [
    "# Evaluation\n",
    "from sklearn.metrics import recall_score\n",
    "recall_score(y2_validate, y2_pred, average='weighted')"
   ]
  },
  {
   "cell_type": "markdown",
   "metadata": {},
   "source": [
    "## Test"
   ]
  },
  {
   "cell_type": "code",
   "execution_count": null,
   "metadata": {},
   "outputs": [],
   "source": [
    "# replacing null\n",
    "\n",
    "test['X_2'] = test['X_2'].fillna(test['X_2'].mode()[0])\n",
    "test['X_1'] = test['X_1'].fillna(test['X_1'].mode()[0])\n",
    "test['product_quality_type'] = test['product_quality_type'].fillna(test['product_quality_type'].mode()[0])\n",
    "test['product_category_code'] = test['product_category_code'].fillna(test['product_category_code'].mode()[0])\n",
    "test['payment_emi_years(max)'] = test['payment_emi_years(max)'].fillna(test['payment_emi_years(max)'].mode()[0])\n",
    "test['shipping_charges'] = test['shipping_charges'].fillna(test['shipping_charges'].mean())\n",
    "test['price'] = test['price'].fillna(test['price'].mean())"
   ]
  },
  {
   "cell_type": "code",
   "execution_count": null,
   "metadata": {},
   "outputs": [],
   "source": [
    "from sklearn.preprocessing import LabelEncoder\n",
    "\n",
    "test_product_quality_type = LabelEncoder()\n",
    "test_order_status = LabelEncoder()\n",
    "\n",
    "test['product_quality_type'] = test_product_quality_type.fit_transform(test['product_quality_type'])\n",
    "test['order_status'] = test_order_status.fit_transform(test['order_status'])"
   ]
  },
  {
   "cell_type": "code",
   "execution_count": null,
   "metadata": {},
   "outputs": [],
   "source": [
    "test['order_checkout_date'] = pd.to_datetime(test['order_checkout_date'])\n",
    "\n",
    "test['order_year'] = test['order_checkout_date'].dt.year\n",
    "test['order_month'] = test['order_checkout_date'].dt.month\n",
    "test['order_day'] = test['order_checkout_date'].dt.day\n",
    "test['order_hour'] = test['order_checkout_date'].dt.hour\n",
    "test['order_minute'] = test['order_checkout_date'].dt.minute\n",
    "test['order_second'] = test['order_checkout_date'].dt.second\n",
    "test['order_weekday'] = test['order_checkout_date'].dt.weekday\n",
    "test['order_week'] = test['order_checkout_date'].dt.week\n",
    "test.shape"
   ]
  },
  {
   "cell_type": "code",
   "execution_count": null,
   "metadata": {},
   "outputs": [],
   "source": [
    "test['delivery_eta'] = pd.to_datetime(test['delivery_eta'])\n",
    "\n",
    "test['delivery_year'] = test['delivery_eta'].dt.year\n",
    "test['delivery_month'] = test['delivery_eta'].dt.month\n",
    "test['delivery_day'] = test['delivery_eta'].dt.day\n",
    "test['delivery_weekday'] = test['delivery_eta'].dt.weekday\n",
    "test['delivery_week'] = test['delivery_eta'].dt.week\n",
    "test.shape"
   ]
  },
  {
   "cell_type": "code",
   "execution_count": null,
   "metadata": {},
   "outputs": [],
   "source": [
    "test.head()"
   ]
  },
  {
   "cell_type": "markdown",
   "metadata": {},
   "source": [
    "from sklearn.preprocessing import StandardScaler\n",
    "sc = StandardScaler()\n",
    "test[['shipping_charges', 'product_mass', 'product_length', 'product_height', 'product_breadth', 'price']] = sc.fit_transform(test[['shipping_charges', 'product_mass', 'product_length', 'product_height', 'product_breadth', 'price']])"
   ]
  },
  {
   "cell_type": "code",
   "execution_count": null,
   "metadata": {},
   "outputs": [],
   "source": [
    "X_test = test.drop(['customer_id', 'seller_id', 'order_checkout_date', 'delivery_eta'], axis=1)\n",
    "X_test.shape"
   ]
  },
  {
   "cell_type": "markdown",
   "metadata": {},
   "source": [
    "# waste donot use\n",
    "#scaler.transform(X_test)\n",
    "#X_test = min_max_scaler.transform(X_test)\n",
    "#X_test\n",
    "X_test = max_abs_scaler.transform(X_test)\n",
    "X_test"
   ]
  },
  {
   "cell_type": "code",
   "execution_count": null,
   "metadata": {},
   "outputs": [],
   "source": [
    "pred_cc = model1.predict(X_test)\n",
    "pred_cc"
   ]
  },
  {
   "cell_type": "code",
   "execution_count": null,
   "metadata": {},
   "outputs": [],
   "source": [
    "pred_pc = model2.predict(X_test)\n",
    "pred_pc"
   ]
  },
  {
   "cell_type": "code",
   "execution_count": null,
   "metadata": {
    "scrolled": false
   },
   "outputs": [],
   "source": [
    "df1 = pd.DataFrame(test['customer_id'])\n",
    "df2 = pd.DataFrame(pred_cc, columns=['coupon_code'])\n",
    "df3 = pd.DataFrame(pred_pc, columns=['payment_code'])\n",
    "display(df1.head(3), df2.head(3), df3.head(3))"
   ]
  },
  {
   "cell_type": "code",
   "execution_count": null,
   "metadata": {},
   "outputs": [],
   "source": [
    "df = pd.concat([df1, df2, df3], axis=1)\n",
    "df.head()"
   ]
  },
  {
   "cell_type": "code",
   "execution_count": null,
   "metadata": {},
   "outputs": [],
   "source": [
    "# mapping labels\n",
    "\n",
    "df['coupon_code'] = df['coupon_code'].map({0:'CLOTH15', 1:'CLOTH20', 2:'COSMETICS25', 3:'ELEC10'\n",
    "                                                 , 4:'ELEC15', 5:'FURN20', 6:'KIDS15'})\n",
    "df['payment_code'] = df['payment_code'].map({0:'APAY15', 1:'CITI10', 2:'GPAY20', 3:'HDFC20', 4:'PAYTM25'})"
   ]
  },
  {
   "cell_type": "code",
   "execution_count": null,
   "metadata": {},
   "outputs": [],
   "source": [
    "df.head()"
   ]
  },
  {
   "cell_type": "markdown",
   "metadata": {},
   "source": [
    "df.to_csv(r'C:\\Users\\Smriti Priya\\Desktop\\lr.csv', index=False)"
   ]
  },
  {
   "cell_type": "code",
   "execution_count": null,
   "metadata": {},
   "outputs": [],
   "source": [
    "df.to_csv(r'C:\\Users\\lohani\\Desktop\\dt11.csv', index=False)"
   ]
  },
  {
   "cell_type": "code",
   "execution_count": null,
   "metadata": {},
   "outputs": [],
   "source": []
  }
 ],
 "metadata": {
  "kernelspec": {
   "display_name": "Python 3",
   "language": "python",
   "name": "python3"
  },
  "language_info": {
   "codemirror_mode": {
    "name": "ipython",
    "version": 3
   },
   "file_extension": ".py",
   "mimetype": "text/x-python",
   "name": "python",
   "nbconvert_exporter": "python",
   "pygments_lexer": "ipython3",
   "version": "3.7.4"
  }
 },
 "nbformat": 4,
 "nbformat_minor": 2
}
